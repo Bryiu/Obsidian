{
 "cells": [
  {
   "cell_type": "markdown",
   "id": "223e4b50-5e88-487b-8f4d-a9f7a1fe1d57",
   "metadata": {},
   "source": [
    "# Formulating constants|"
   ]
  },
  {
   "cell_type": "code",
   "execution_count": 19,
   "id": "a9fac2e9-3bd5-4109-bc94-8b51726c1032",
   "metadata": {},
   "outputs": [
    {
     "name": "stdout",
     "output_type": "stream",
     "text": [
      "ILT 0.004\n"
     ]
    }
   ],
   "source": [
    "V = 10 ;\n",
    "VL1 = 8 ;\n",
    "IL1 = .002 ;\n",
    "VL2 = 6 ;\n",
    "IL2 = .001 ;\n",
    "VL3 = 2.5 ;\n",
    "IL3 = .001 ;\n",
    "ILT =  IL1 + IL2 + IL3;\n",
    "print(\"ILT\",ILT)"
   ]
  },
  {
   "cell_type": "markdown",
   "id": "1cb9262e-76ca-42aa-8f49-4ccd7d647a04",
   "metadata": {},
   "source": [
    "# Calculate the bleeder current"
   ]
  },
  {
   "cell_type": "markdown",
   "id": "89397bd7-af9f-4150-8694-a02cdcc6ea5f",
   "metadata": {},
   "source": [
    "Bleeder current is generally designed to be 10% to 25% of the total load current. The lower the bleeder current the more volitile to changes to load current. \n",
    "If the bleeder current is too high, it will generate significant waste"
   ]
  },
  {
   "cell_type": "code",
   "execution_count": 30,
   "id": "c2aefe35-16b5-42af-b6c5-e807b9ef0376",
   "metadata": {},
   "outputs": [
    {
     "name": "stdout",
     "output_type": "stream",
     "text": [
      "Ib 0.0004 R1 6250.0\n"
     ]
    }
   ],
   "source": [
    "Ib = LT * .1; # Ib is also R1\n",
    "R1 = VL3 / Ib\n",
    "print(\"Ib\",Ib,\"R1\", R1)"
   ]
  },
  {
   "cell_type": "markdown",
   "id": "c763bb50-7f35-4d8d-ad56-05647138d0f4",
   "metadata": {},
   "source": [
    "# Calculating resistor values"
   ]
  },
  {
   "cell_type": "markdown",
   "id": "94f7b17e-0a44-4478-ab64-8415610bb392",
   "metadata": {},
   "source": [
    "## Resistor 2"
   ]
  },
  {
   "cell_type": "code",
   "execution_count": 21,
   "id": "c2ac2820-4d13-45cf-bb1b-126008fd16d0",
   "metadata": {},
   "outputs": [
    {
     "name": "stdout",
     "output_type": "stream",
     "text": [
      "IR2 0.0014 VR2 3.5 R2 2500.0\n"
     ]
    }
   ],
   "source": [
    "IR2 = IR1 + IL3 ;\n",
    "VR2 = VL2 - VL3 ;\n",
    "R2 = VR2/IR2 ;\n",
    "print(\"IR2\",IR2,\"VR2\",VR2,\"R2\", R2)"
   ]
  },
  {
   "cell_type": "markdown",
   "id": "748229d4-e503-42bd-98c3-e0b916395c08",
   "metadata": {},
   "source": [
    "## Resistor 3"
   ]
  },
  {
   "cell_type": "code",
   "execution_count": 22,
   "id": "c358e0d6-23ef-4128-9b07-dc4b642a30b1",
   "metadata": {},
   "outputs": [
    {
     "name": "stdout",
     "output_type": "stream",
     "text": [
      "IR3 0.0024000000000000002 VR3 2 R3 833.3333333333333\n"
     ]
    }
   ],
   "source": [
    "IR3 = IR2 + IL2 ;\n",
    "VR3 = VL1 - VL2 ;\n",
    "R3 = VR3/IR3 ;\n",
    "print(\"IR3\",IR3,\"VR3\",VR3,\"R3\", R3)"
   ]
  },
  {
   "cell_type": "markdown",
   "id": "fe6e7a89-d8d6-412f-adc5-672749780259",
   "metadata": {},
   "source": [
    "## Resistor 4"
   ]
  },
  {
   "cell_type": "code",
   "execution_count": 24,
   "id": "0e5becb9-4efd-40c6-8320-e6b7aedd87a1",
   "metadata": {},
   "outputs": [
    {
     "name": "stdout",
     "output_type": "stream",
     "text": [
      "IR4 0.0044 VR4 2 R4 454.5454545454545\n"
     ]
    }
   ],
   "source": [
    "IR4 = IR3 + IL1 ;\n",
    "VR4 = V - VL1 ;\n",
    "R4 = VR4/IR4 ;\n",
    "print(\"IR4\",IR4,\"VR4\",VR4,\"R4\", R4)"
   ]
  },
  {
   "cell_type": "markdown",
   "id": "a5bcaaed-276a-4e9b-86fe-8e949a3ebb78",
   "metadata": {},
   "source": [
    "## Calculating power for each resistor"
   ]
  },
  {
   "cell_type": "code",
   "execution_count": 32,
   "id": "cc4cb258-78e7-4c46-b13c-13876049cdd6",
   "metadata": {},
   "outputs": [
    {
     "name": "stdout",
     "output_type": "stream",
     "text": [
      "P1 0.0032 P2 0.0049 P3 0.0048000000000000004 P4 0.0088\n"
     ]
    }
   ],
   "source": [
    "P1 = IR1 * VL1 ;\n",
    "P2 = IR2 * VR2 ;\n",
    "P3 = IR3 * VR3 ;\n",
    "P4 = IR4 * VR4 ;\n",
    "print(\"P1\",P1,\"P2\",P2,\"P3\",P3,\"P4\",P4)"
   ]
  }
 ],
 "metadata": {
  "kernelspec": {
   "display_name": "Python 3 (ipykernel)",
   "language": "python",
   "name": "python3"
  },
  "language_info": {
   "codemirror_mode": {
    "name": "ipython",
    "version": 3
   },
   "file_extension": ".py",
   "mimetype": "text/x-python",
   "name": "python",
   "nbconvert_exporter": "python",
   "pygments_lexer": "ipython3",
   "version": "3.11.5"
  }
 },
 "nbformat": 4,
 "nbformat_minor": 5
}
